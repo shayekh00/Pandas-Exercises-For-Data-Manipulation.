{
  "nbformat": 4,
  "nbformat_minor": 0,
  "metadata": {
    "colab": {
      "name": "Pandas Exercises For Data Manipulation.ipynb",
      "provenance": [],
      "collapsed_sections": [],
      "authorship_tag": "ABX9TyOs3GOC3prPSyRU61YaJTDC",
      "include_colab_link": true
    },
    "kernelspec": {
      "name": "python3",
      "display_name": "Python 3"
    }
  },
  "cells": [
    {
      "cell_type": "markdown",
      "metadata": {
        "id": "view-in-github",
        "colab_type": "text"
      },
      "source": [
        "<a href=\"https://colab.research.google.com/github/shayekh00/Pandas-Exercises-For-Data-Manipulation./blob/master/Pandas_Exercises_For_Data_Manipulation.ipynb\" target=\"_parent\"><img src=\"https://colab.research.google.com/assets/colab-badge.svg\" alt=\"Open In Colab\"/></a>"
      ]
    },
    {
      "cell_type": "code",
      "metadata": {
        "id": "ea8PaNMfPWV5",
        "colab_type": "code",
        "colab": {
          "base_uri": "https://localhost:8080/",
          "height": 141
        },
        "outputId": "9876664f-da0d-4198-8e44-d929c8ad93c2"
      },
      "source": [
        "from google.colab import drive\n",
        "drive.mount(\"/content/drive\")\n",
        "%cd \"/content/drive/My Drive/Colab Notebooks/\""
      ],
      "execution_count": 1,
      "outputs": [
        {
          "output_type": "stream",
          "text": [
            "Go to this URL in a browser: https://accounts.google.com/o/oauth2/auth?client_id=947318989803-6bn6qk8qdgf4n4g3pfee6491hc0brc4i.apps.googleusercontent.com&redirect_uri=urn%3aietf%3awg%3aoauth%3a2.0%3aoob&response_type=code&scope=email%20https%3a%2f%2fwww.googleapis.com%2fauth%2fdocs.test%20https%3a%2f%2fwww.googleapis.com%2fauth%2fdrive%20https%3a%2f%2fwww.googleapis.com%2fauth%2fdrive.photos.readonly%20https%3a%2f%2fwww.googleapis.com%2fauth%2fpeopleapi.readonly\n",
            "\n",
            "Enter your authorization code:\n",
            "··········\n",
            "Mounted at /content/drive\n",
            "/content/drive/My Drive/Colab Notebooks\n"
          ],
          "name": "stdout"
        }
      ]
    },
    {
      "cell_type": "code",
      "metadata": {
        "id": "GT54sbLIQqdb",
        "colab_type": "code",
        "colab": {}
      },
      "source": [
        "import pandas as pd\n",
        "import numpy as np"
      ],
      "execution_count": 0,
      "outputs": []
    },
    {
      "cell_type": "markdown",
      "metadata": {
        "id": "6ESxOpdzhWbD",
        "colab_type": "text"
      },
      "source": [
        "Write a Python program to create and display a one-dimensional array-like object containing an array of data using Pandas module"
      ]
    },
    {
      "cell_type": "code",
      "metadata": {
        "id": "6BBd5MOchhOZ",
        "colab_type": "code",
        "colab": {
          "base_uri": "https://localhost:8080/",
          "height": 121
        },
        "outputId": "aa949396-8775-49dc-fffd-e4355fd35ddb"
      },
      "source": [
        "df = pd.DataFrame({'X':[78,85,96,80,86], 'Y':[84,94,89,83,86],'Z':[86,97,96,72,83]});\n",
        "print(df)"
      ],
      "execution_count": 5,
      "outputs": [
        {
          "output_type": "stream",
          "text": [
            "    X   Y   Z\n",
            "0  78  84  86\n",
            "1  85  94  97\n",
            "2  96  89  96\n",
            "3  80  83  72\n",
            "4  86  86  83\n"
          ],
          "name": "stdout"
        }
      ]
    },
    {
      "cell_type": "markdown",
      "metadata": {
        "id": "0fTgd8cOkR0J",
        "colab_type": "text"
      },
      "source": [
        "Write a Python program to convert a Panda module Series to Python list and it's type"
      ]
    },
    {
      "cell_type": "code",
      "metadata": {
        "id": "tYSMDHUJRLo0",
        "colab_type": "code",
        "colab": {
          "base_uri": "https://localhost:8080/",
          "height": 34
        },
        "outputId": "51ebade3-4d77-4d63-c53c-ef558fcbf16a"
      },
      "source": [
        "X= []\n",
        "col_names= df.columns.unique()\n",
        "\n",
        "\n",
        "for col in col_names:\n",
        "  for i in range(0,df['X'].shape[0]):\n",
        "    X.append(df[col][i])\n",
        "\n",
        "print(X)\n"
      ],
      "execution_count": 20,
      "outputs": [
        {
          "output_type": "stream",
          "text": [
            "[78, 85, 96, 80, 86, 84, 94, 89, 83, 86, 86, 97, 96, 72, 83]\n"
          ],
          "name": "stdout"
        }
      ]
    },
    {
      "cell_type": "markdown",
      "metadata": {
        "id": "ieE3kVZ0kP0V",
        "colab_type": "text"
      },
      "source": [
        "Write a Python program to add, subtract, multiple and divide two Pandas Series"
      ]
    },
    {
      "cell_type": "code",
      "metadata": {
        "id": "nRRrKbKqhmg3",
        "colab_type": "code",
        "colab": {}
      },
      "source": [
        "col1=df['X']\n",
        "col2=df['Y']\n",
        "\n",
        "print(col1/col2)\n",
        "print(col1 * col2)\n",
        "print(col1 + col2)\n",
        "print(col1 - col2)"
      ],
      "execution_count": 0,
      "outputs": []
    },
    {
      "cell_type": "markdown",
      "metadata": {
        "id": "iEArAxLvltDb",
        "colab_type": "text"
      },
      "source": [
        "Write a Python program to convert a dictionary to a Pandas series."
      ]
    },
    {
      "cell_type": "code",
      "metadata": {
        "id": "N9NgQHBGjGjl",
        "colab_type": "code",
        "colab": {
          "base_uri": "https://localhost:8080/",
          "height": 121
        },
        "outputId": "ad163f17-2a87-4d42-f46d-a8e0ec126f4c"
      },
      "source": [
        "sample_dict= {'a': 100, 'b': 200, 'c': 300, 'd': 400, 'e': 800}\n",
        "new_series=pd.Series(sample_dict)\n",
        "print(new_series)"
      ],
      "execution_count": 25,
      "outputs": [
        {
          "output_type": "stream",
          "text": [
            "a    100\n",
            "b    200\n",
            "c    300\n",
            "d    400\n",
            "e    800\n",
            "dtype: int64\n"
          ],
          "name": "stdout"
        }
      ]
    },
    {
      "cell_type": "markdown",
      "metadata": {
        "id": "P98D8ZaJpq9U",
        "colab_type": "text"
      },
      "source": [
        "Write a Python program to convert a NumPy array to a Pandas series. Go to the editor."
      ]
    },
    {
      "cell_type": "code",
      "metadata": {
        "id": "whzu-WsrjwRT",
        "colab_type": "code",
        "colab": {
          "base_uri": "https://localhost:8080/",
          "height": 121
        },
        "outputId": "ef57ea7a-9040-42cc-e68e-4973694a828c"
      },
      "source": [
        "np_array=[10,20,30,40,50]\n",
        "new_series=pd.Series(np_array)\n",
        "print(new_series)"
      ],
      "execution_count": 26,
      "outputs": [
        {
          "output_type": "stream",
          "text": [
            "0    10\n",
            "1    20\n",
            "2    30\n",
            "3    40\n",
            "4    50\n",
            "dtype: int64\n"
          ],
          "name": "stdout"
        }
      ]
    },
    {
      "cell_type": "markdown",
      "metadata": {
        "id": "3v0U6l02p4yM",
        "colab_type": "text"
      },
      "source": [
        "Write a Python program to change the data type of given a column or a Series."
      ]
    },
    {
      "cell_type": "code",
      "metadata": {
        "id": "cs_dkUXTo31c",
        "colab_type": "code",
        "colab": {
          "base_uri": "https://localhost:8080/",
          "height": 121
        },
        "outputId": "fd37c256-1b67-40fb-d5cb-7f9c9570bcd3"
      },
      "source": [
        "sample_dict= {'a': 100, 'b': 200, 'c': 'Pythuuunn', 'd': 400, 'e': 800}\n",
        "new_series=pd.Series(sample_dict)\n",
        "\n",
        "new_series= pd.to_numeric(new_series,errors='coerce')\n",
        "new_series"
      ],
      "execution_count": 29,
      "outputs": [
        {
          "output_type": "execute_result",
          "data": {
            "text/plain": [
              "a    100.0\n",
              "b    200.0\n",
              "c      NaN\n",
              "d    400.0\n",
              "e    800.0\n",
              "dtype: float64"
            ]
          },
          "metadata": {
            "tags": []
          },
          "execution_count": 29
        }
      ]
    },
    {
      "cell_type": "markdown",
      "metadata": {
        "id": "3eily1stsRa1",
        "colab_type": "text"
      },
      "source": [
        "Write a Python Pandas program to convert the first column of a DataFrame as a Series"
      ]
    },
    {
      "cell_type": "code",
      "metadata": {
        "id": "H93aeoKcqsWh",
        "colab_type": "code",
        "colab": {
          "base_uri": "https://localhost:8080/",
          "height": 34
        },
        "outputId": "a094400a-bd26-4c2d-ae50-fdd06b8b8f93"
      },
      "source": [
        "new_df= pd.DataFrame(np.random.rand(20,5))\n",
        "new_series=pd.Series(new_df[0])\n",
        "type(new_series)"
      ],
      "execution_count": 34,
      "outputs": [
        {
          "output_type": "execute_result",
          "data": {
            "text/plain": [
              "pandas.core.series.Series"
            ]
          },
          "metadata": {
            "tags": []
          },
          "execution_count": 34
        }
      ]
    },
    {
      "cell_type": "markdown",
      "metadata": {
        "id": "weXylGh9uTAX",
        "colab_type": "text"
      },
      "source": [
        "Write a Pandas program to convert a given Series to an array."
      ]
    },
    {
      "cell_type": "code",
      "metadata": {
        "id": "mt8GbKTOt2af",
        "colab_type": "code",
        "colab": {
          "base_uri": "https://localhost:8080/",
          "height": 34
        },
        "outputId": "c4eb061d-dde3-4c0c-f2a3-d10ea02cdb18"
      },
      "source": [
        "del X\n",
        "\n",
        "X=[]\n",
        "sample_dict2= {'a': 100, 'b': 200, 'c': 'Pythuuunn', 'd': 400, 'e': 800}\n",
        "new_series2=pd.Series(sample_dict2)\n",
        "for i in new_series2:\n",
        "  X.append(i)\n",
        "\n",
        "X"
      ],
      "execution_count": 42,
      "outputs": [
        {
          "output_type": "execute_result",
          "data": {
            "text/plain": [
              "[100, 200, 'Pythuuunn', 400, 800]"
            ]
          },
          "metadata": {
            "tags": []
          },
          "execution_count": 42
        }
      ]
    },
    {
      "cell_type": "markdown",
      "metadata": {
        "id": "6Zyk3vOfvfPN",
        "colab_type": "text"
      },
      "source": [
        "Write a Pandas program to convert Series of lists to one Series."
      ]
    },
    {
      "cell_type": "code",
      "metadata": {
        "id": "k9QE6HSBuv_N",
        "colab_type": "code",
        "colab": {
          "base_uri": "https://localhost:8080/",
          "height": 138
        },
        "outputId": "d994f781-e588-4bb0-d64c-52919bd41468"
      },
      "source": [
        "list1=['Red', 'Green', 'White']\n",
        "list2=['Red', 'Black', ]\n",
        "list3=['Yellow']\n",
        "new_series2=pd.Series([list1,list2,list3])\n",
        "new_series2.apply(pd.Series).stack().reset_index(drop=True)"
      ],
      "execution_count": 47,
      "outputs": [
        {
          "output_type": "execute_result",
          "data": {
            "text/plain": [
              "0       Red\n",
              "1     Green\n",
              "2     White\n",
              "3       Red\n",
              "4     Black\n",
              "5    Yellow\n",
              "dtype: object"
            ]
          },
          "metadata": {
            "tags": []
          },
          "execution_count": 47
        }
      ]
    },
    {
      "cell_type": "code",
      "metadata": {
        "id": "KgP3I_uiwCGq",
        "colab_type": "code",
        "colab": {}
      },
      "source": [
        ""
      ],
      "execution_count": 0,
      "outputs": []
    }
  ]
}
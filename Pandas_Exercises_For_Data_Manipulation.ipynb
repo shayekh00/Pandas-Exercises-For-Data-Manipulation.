{
  "nbformat": 4,
  "nbformat_minor": 0,
  "metadata": {
    "colab": {
      "name": "Pandas Exercises For Data Manipulation.ipynb",
      "provenance": [],
      "collapsed_sections": [],
      "authorship_tag": "ABX9TyN+q+pf3MVjOcI1C0WiApLf",
      "include_colab_link": true
    },
    "kernelspec": {
      "name": "python3",
      "display_name": "Python 3"
    }
  },
  "cells": [
    {
      "cell_type": "markdown",
      "metadata": {
        "id": "view-in-github",
        "colab_type": "text"
      },
      "source": [
        "<a href=\"https://colab.research.google.com/github/shayekh00/Pandas-Exercises-For-Data-Manipulation./blob/master/Pandas_Exercises_For_Data_Manipulation.ipynb\" target=\"_parent\"><img src=\"https://colab.research.google.com/assets/colab-badge.svg\" alt=\"Open In Colab\"/></a>"
      ]
    },
    {
      "cell_type": "code",
      "metadata": {
        "id": "ea8PaNMfPWV5",
        "colab_type": "code",
        "colab": {}
      },
      "source": [
        "from google.colab import drive\n",
        "drive.mount(\"/content/drive\")\n",
        "%cd \"/content/drive/My Drive/Colab Notebooks/\""
      ],
      "execution_count": 0,
      "outputs": []
    },
    {
      "cell_type": "code",
      "metadata": {
        "id": "GT54sbLIQqdb",
        "colab_type": "code",
        "colab": {}
      },
      "source": [
        "import pandas as pd\n",
        "import numpy as np"
      ],
      "execution_count": 0,
      "outputs": []
    },
    {
      "cell_type": "markdown",
      "metadata": {
        "id": "6ESxOpdzhWbD",
        "colab_type": "text"
      },
      "source": [
        "Write a Python program to create and display a one-dimensional array-like object containing an array of data using Pandas module"
      ]
    },
    {
      "cell_type": "code",
      "metadata": {
        "id": "6BBd5MOchhOZ",
        "colab_type": "code",
        "outputId": "33c72265-c176-4606-e7ba-8dc09ee86fa4",
        "colab": {
          "base_uri": "https://localhost:8080/",
          "height": 121
        }
      },
      "source": [
        "df = pd.DataFrame({'X':[78,85,96,80,86], 'Y':[84,94,89,83,86],'Z':[86,97,96,72,83]});\n",
        "print(df)"
      ],
      "execution_count": 3,
      "outputs": [
        {
          "output_type": "stream",
          "text": [
            "    X   Y   Z\n",
            "0  78  84  86\n",
            "1  85  94  97\n",
            "2  96  89  96\n",
            "3  80  83  72\n",
            "4  86  86  83\n"
          ],
          "name": "stdout"
        }
      ]
    },
    {
      "cell_type": "markdown",
      "metadata": {
        "id": "0fTgd8cOkR0J",
        "colab_type": "text"
      },
      "source": [
        "Write a Python program to convert a Panda module Series to Python list and it's type"
      ]
    },
    {
      "cell_type": "code",
      "metadata": {
        "id": "tYSMDHUJRLo0",
        "colab_type": "code",
        "outputId": "4a7f7cce-42e6-493c-baaa-229838f2e1e4",
        "colab": {
          "base_uri": "https://localhost:8080/",
          "height": 34
        }
      },
      "source": [
        "X= []\n",
        "col_names= df.columns.unique()\n",
        "\n",
        "\n",
        "for col in col_names:\n",
        "  for i in range(0,df['X'].shape[0]):\n",
        "    X.append(df[col][i])\n",
        "\n",
        "print(X)\n"
      ],
      "execution_count": 4,
      "outputs": [
        {
          "output_type": "stream",
          "text": [
            "[78, 85, 96, 80, 86, 84, 94, 89, 83, 86, 86, 97, 96, 72, 83]\n"
          ],
          "name": "stdout"
        }
      ]
    },
    {
      "cell_type": "markdown",
      "metadata": {
        "id": "ieE3kVZ0kP0V",
        "colab_type": "text"
      },
      "source": [
        "Write a Python program to add, subtract, multiple and divide two Pandas Series"
      ]
    },
    {
      "cell_type": "code",
      "metadata": {
        "id": "nRRrKbKqhmg3",
        "colab_type": "code",
        "colab": {
          "base_uri": "https://localhost:8080/",
          "height": 433
        },
        "outputId": "6bcc97e8-a797-4fcb-93e9-6be6430973ee"
      },
      "source": [
        "col1=df['X']\n",
        "col2=df['Y']\n",
        "\n",
        "print(col1/col2)\n",
        "print(col1 * col2)\n",
        "print(col1 + col2)\n",
        "print(col1 - col2)"
      ],
      "execution_count": 5,
      "outputs": [
        {
          "output_type": "stream",
          "text": [
            "0    0.928571\n",
            "1    0.904255\n",
            "2    1.078652\n",
            "3    0.963855\n",
            "4    1.000000\n",
            "dtype: float64\n",
            "0    6552\n",
            "1    7990\n",
            "2    8544\n",
            "3    6640\n",
            "4    7396\n",
            "dtype: int64\n",
            "0    162\n",
            "1    179\n",
            "2    185\n",
            "3    163\n",
            "4    172\n",
            "dtype: int64\n",
            "0   -6\n",
            "1   -9\n",
            "2    7\n",
            "3   -3\n",
            "4    0\n",
            "dtype: int64\n"
          ],
          "name": "stdout"
        }
      ]
    },
    {
      "cell_type": "markdown",
      "metadata": {
        "id": "iEArAxLvltDb",
        "colab_type": "text"
      },
      "source": [
        "Write a Python program to convert a dictionary to a Pandas series."
      ]
    },
    {
      "cell_type": "code",
      "metadata": {
        "id": "N9NgQHBGjGjl",
        "colab_type": "code",
        "outputId": "e91ef12e-c41c-4869-bddd-a38e953b1aee",
        "colab": {
          "base_uri": "https://localhost:8080/",
          "height": 121
        }
      },
      "source": [
        "sample_dict= {'a': 100, 'b': 200, 'c': 300, 'd': 400, 'e': 800}\n",
        "new_series=pd.Series(sample_dict)\n",
        "print(new_series)"
      ],
      "execution_count": 6,
      "outputs": [
        {
          "output_type": "stream",
          "text": [
            "a    100\n",
            "b    200\n",
            "c    300\n",
            "d    400\n",
            "e    800\n",
            "dtype: int64\n"
          ],
          "name": "stdout"
        }
      ]
    },
    {
      "cell_type": "markdown",
      "metadata": {
        "id": "P98D8ZaJpq9U",
        "colab_type": "text"
      },
      "source": [
        "Write a Python program to convert a NumPy array to a Pandas series. Go to the editor."
      ]
    },
    {
      "cell_type": "code",
      "metadata": {
        "id": "whzu-WsrjwRT",
        "colab_type": "code",
        "outputId": "8715b9d6-6b44-4d9e-e3fc-1a35a7c35123",
        "colab": {
          "base_uri": "https://localhost:8080/",
          "height": 121
        }
      },
      "source": [
        "np_array=[10,20,30,40,50]\n",
        "new_series=pd.Series(np_array)\n",
        "print(new_series)"
      ],
      "execution_count": 7,
      "outputs": [
        {
          "output_type": "stream",
          "text": [
            "0    10\n",
            "1    20\n",
            "2    30\n",
            "3    40\n",
            "4    50\n",
            "dtype: int64\n"
          ],
          "name": "stdout"
        }
      ]
    },
    {
      "cell_type": "markdown",
      "metadata": {
        "id": "3v0U6l02p4yM",
        "colab_type": "text"
      },
      "source": [
        "Write a Python program to change the data type of given a column or a Series."
      ]
    },
    {
      "cell_type": "code",
      "metadata": {
        "id": "cs_dkUXTo31c",
        "colab_type": "code",
        "outputId": "d8a9f362-eac0-4323-e89a-41a9f0500827",
        "colab": {
          "base_uri": "https://localhost:8080/",
          "height": 121
        }
      },
      "source": [
        "sample_dict= {'a': 100, 'b': 200, 'c': 'Pythuuunn', 'd': 400, 'e': 800}\n",
        "new_series=pd.Series(sample_dict)\n",
        "\n",
        "new_series= pd.to_numeric(new_series,errors='coerce')\n",
        "new_series"
      ],
      "execution_count": 8,
      "outputs": [
        {
          "output_type": "execute_result",
          "data": {
            "text/plain": [
              "a    100.0\n",
              "b    200.0\n",
              "c      NaN\n",
              "d    400.0\n",
              "e    800.0\n",
              "dtype: float64"
            ]
          },
          "metadata": {
            "tags": []
          },
          "execution_count": 8
        }
      ]
    },
    {
      "cell_type": "markdown",
      "metadata": {
        "id": "3eily1stsRa1",
        "colab_type": "text"
      },
      "source": [
        "Write a Python Pandas program to convert the first column of a DataFrame as a Series"
      ]
    },
    {
      "cell_type": "code",
      "metadata": {
        "id": "H93aeoKcqsWh",
        "colab_type": "code",
        "outputId": "43eccc19-809f-48d4-cbeb-256e3697cfa3",
        "colab": {
          "base_uri": "https://localhost:8080/",
          "height": 34
        }
      },
      "source": [
        "new_df= pd.DataFrame(np.random.rand(20,5))\n",
        "new_series=pd.Series(new_df[0])\n",
        "type(new_series)"
      ],
      "execution_count": 9,
      "outputs": [
        {
          "output_type": "execute_result",
          "data": {
            "text/plain": [
              "pandas.core.series.Series"
            ]
          },
          "metadata": {
            "tags": []
          },
          "execution_count": 9
        }
      ]
    },
    {
      "cell_type": "markdown",
      "metadata": {
        "id": "weXylGh9uTAX",
        "colab_type": "text"
      },
      "source": [
        "Write a Pandas program to convert a given Series to an array."
      ]
    },
    {
      "cell_type": "code",
      "metadata": {
        "id": "mt8GbKTOt2af",
        "colab_type": "code",
        "outputId": "11ebb01c-e531-4c8b-9459-4dbacc838bc9",
        "colab": {
          "base_uri": "https://localhost:8080/",
          "height": 34
        }
      },
      "source": [
        "del X\n",
        "\n",
        "X=[]\n",
        "sample_dict2= {'a': 100, 'b': 200, 'c': 'Pythuuunn', 'd': 400, 'e': 800}\n",
        "new_series2=pd.Series(sample_dict2)\n",
        "for i in new_series2:\n",
        "  X.append(i)\n",
        "\n",
        "X"
      ],
      "execution_count": 10,
      "outputs": [
        {
          "output_type": "execute_result",
          "data": {
            "text/plain": [
              "[100, 200, 'Pythuuunn', 400, 800]"
            ]
          },
          "metadata": {
            "tags": []
          },
          "execution_count": 10
        }
      ]
    },
    {
      "cell_type": "markdown",
      "metadata": {
        "id": "6Zyk3vOfvfPN",
        "colab_type": "text"
      },
      "source": [
        "Write a Pandas program to convert Series of lists to one Series.\n",
        "\n"
      ]
    },
    {
      "cell_type": "code",
      "metadata": {
        "id": "k9QE6HSBuv_N",
        "colab_type": "code",
        "outputId": "5d373aaa-61c0-4193-e14c-0bc3c5fdf55f",
        "colab": {
          "base_uri": "https://localhost:8080/",
          "height": 138
        }
      },
      "source": [
        "list1=['Red', 'Green', 'White']\n",
        "list2=['Red', 'Black', ]\n",
        "list3=['Yellow']\n",
        "new_series2=pd.Series([list1,list2,list3])\n",
        "new_series2.apply(pd.Series).stack().reset_index(drop=True)"
      ],
      "execution_count": 16,
      "outputs": [
        {
          "output_type": "execute_result",
          "data": {
            "text/plain": [
              "0       Red\n",
              "1     Green\n",
              "2     White\n",
              "3       Red\n",
              "4     Black\n",
              "5    Yellow\n",
              "dtype: object"
            ]
          },
          "metadata": {
            "tags": []
          },
          "execution_count": 16
        }
      ]
    },
    {
      "cell_type": "markdown",
      "metadata": {
        "id": "vr70ro6gp4zJ",
        "colab_type": "text"
      },
      "source": [
        "Write a Pandas program to sort a given Series"
      ]
    },
    {
      "cell_type": "code",
      "metadata": {
        "id": "KgP3I_uiwCGq",
        "colab_type": "code",
        "colab": {}
      },
      "source": [
        "new_series2= pd.Series([3,4,5,6,7,1,2])"
      ],
      "execution_count": 0,
      "outputs": []
    },
    {
      "cell_type": "code",
      "metadata": {
        "id": "mlLKnK38ouql",
        "colab_type": "code",
        "colab": {}
      },
      "source": [
        "new_series2=new_series2.sort_values()"
      ],
      "execution_count": 0,
      "outputs": []
    },
    {
      "cell_type": "markdown",
      "metadata": {
        "id": "T6cFTQpxp_hB",
        "colab_type": "text"
      },
      "source": [
        "Write a Pandas program to add some data to an existing Series."
      ]
    },
    {
      "cell_type": "code",
      "metadata": {
        "id": "wrZFZf_Xovi9",
        "colab_type": "code",
        "colab": {
          "base_uri": "https://localhost:8080/",
          "height": 69
        },
        "outputId": "8d23847d-d0e6-4b5b-d25f-b4dae7f59a01"
      },
      "source": [
        "s2=pd.Series(['php',500])\n",
        "s2"
      ],
      "execution_count": 42,
      "outputs": [
        {
          "output_type": "execute_result",
          "data": {
            "text/plain": [
              "0    php\n",
              "1    500\n",
              "dtype: object"
            ]
          },
          "metadata": {
            "tags": []
          },
          "execution_count": 42
        }
      ]
    },
    {
      "cell_type": "code",
      "metadata": {
        "id": "bbm6NzGmrRxq",
        "colab_type": "code",
        "colab": {
          "base_uri": "https://localhost:8080/",
          "height": 190
        },
        "outputId": "9c61e1d3-0d35-4e6b-9056-47364bf695fc"
      },
      "source": [
        "new_series2=s2.append(new_series2)\t\n",
        "new_series2\n"
      ],
      "execution_count": 47,
      "outputs": [
        {
          "output_type": "execute_result",
          "data": {
            "text/plain": [
              "0    php\n",
              "1    500\n",
              "5      1\n",
              "6      2\n",
              "0      3\n",
              "1      4\n",
              "2      5\n",
              "3      6\n",
              "4      7\n",
              "dtype: object"
            ]
          },
          "metadata": {
            "tags": []
          },
          "execution_count": 47
        }
      ]
    },
    {
      "cell_type": "markdown",
      "metadata": {
        "id": "zUTvNiCVtnS8",
        "colab_type": "text"
      },
      "source": [
        "Write a Pandas program to create a subset of a given series based on value and condition."
      ]
    },
    {
      "cell_type": "code",
      "metadata": {
        "id": "_jlQnH_prsPN",
        "colab_type": "code",
        "colab": {
          "base_uri": "https://localhost:8080/",
          "height": 104
        },
        "outputId": "248cabad-6969-4397-f52c-588610a9b77e"
      },
      "source": [
        "new_series2= pd.Series([3,4,5,6,7,1,2]).sort_values()\n",
        "new_series2=new_series2[new_series2.values < 5]\n",
        "new_series2"
      ],
      "execution_count": 53,
      "outputs": [
        {
          "output_type": "execute_result",
          "data": {
            "text/plain": [
              "5    1\n",
              "6    2\n",
              "0    3\n",
              "1    4\n",
              "dtype: int64"
            ]
          },
          "metadata": {
            "tags": []
          },
          "execution_count": 53
        }
      ]
    },
    {
      "cell_type": "markdown",
      "metadata": {
        "id": "naJ-aoLVuaOz",
        "colab_type": "text"
      },
      "source": [
        "Write a Pandas program to create the mean and standard deviation of the data of a given Series"
      ]
    },
    {
      "cell_type": "code",
      "metadata": {
        "id": "GS9xaK2rrvf2",
        "colab_type": "code",
        "colab": {
          "base_uri": "https://localhost:8080/",
          "height": 52
        },
        "outputId": "971a88a3-4e4d-4ee7-9fa1-67f31d804068"
      },
      "source": [
        "print(new_series2.mean())\n",
        "print(new_series2.std())"
      ],
      "execution_count": 55,
      "outputs": [
        {
          "output_type": "stream",
          "text": [
            "2.5\n",
            "1.2909944487358056\n"
          ],
          "name": "stdout"
        }
      ]
    },
    {
      "cell_type": "markdown",
      "metadata": {
        "id": "QB527Bwiu-uV",
        "colab_type": "text"
      },
      "source": [
        "Write a Pandas program to get the items of a given series not present in another given series."
      ]
    },
    {
      "cell_type": "code",
      "metadata": {
        "id": "06v-tmBdunb9",
        "colab_type": "code",
        "colab": {
          "base_uri": "https://localhost:8080/",
          "height": 86
        },
        "outputId": "58b086b7-7a8a-4386-ffd8-0383938c3755"
      },
      "source": [
        "new_series2= pd.Series([3,4,5,6,7,1,2])\n",
        "new_series3= pd.Series([10,11,4,145,6,7,1,2])\n",
        "\n",
        "new_idx= new_series3[~new_series3.isin(new_series2)]\n",
        "new_idx"
      ],
      "execution_count": 59,
      "outputs": [
        {
          "output_type": "execute_result",
          "data": {
            "text/plain": [
              "0     10\n",
              "1     11\n",
              "3    145\n",
              "dtype: int64"
            ]
          },
          "metadata": {
            "tags": []
          },
          "execution_count": 59
        }
      ]
    },
    {
      "cell_type": "markdown",
      "metadata": {
        "id": "PZ6wrsMdw4b3",
        "colab_type": "text"
      },
      "source": [
        "Write a Pandas program to get the items which are not common of two given series"
      ]
    },
    {
      "cell_type": "code",
      "metadata": {
        "id": "RqCq13uBwbPv",
        "colab_type": "code",
        "colab": {
          "base_uri": "https://localhost:8080/",
          "height": 260
        },
        "outputId": "8e591d48-6038-493a-85c5-10186eea1aed"
      },
      "source": [
        "s3= new_series3[~new_series3.isin(new_idx)]\n",
        "s2= new_series2[~new_series2.isin(new_idx)]\n",
        "print(s2)\n",
        "print(s3)"
      ],
      "execution_count": 62,
      "outputs": [
        {
          "output_type": "stream",
          "text": [
            "0    3\n",
            "1    4\n",
            "2    5\n",
            "3    6\n",
            "4    7\n",
            "5    1\n",
            "6    2\n",
            "dtype: int64\n",
            "2    4\n",
            "4    6\n",
            "5    7\n",
            "6    1\n",
            "7    2\n",
            "dtype: int64\n"
          ],
          "name": "stdout"
        }
      ]
    },
    {
      "cell_type": "markdown",
      "metadata": {
        "id": "iLretdHTxWt6",
        "colab_type": "text"
      },
      "source": [
        "Write a Pandas program to compute the minimum, 25th percentile, median, 75th, and maximum of a given series."
      ]
    },
    {
      "cell_type": "code",
      "metadata": {
        "id": "a9uKYkf5w-wG",
        "colab_type": "code",
        "colab": {
          "base_uri": "https://localhost:8080/",
          "height": 173
        },
        "outputId": "d3dafa40-d4f3-4449-9f35-9c9e92ea612d"
      },
      "source": [
        "s3.describe()"
      ],
      "execution_count": 63,
      "outputs": [
        {
          "output_type": "execute_result",
          "data": {
            "text/plain": [
              "count    5.00000\n",
              "mean     4.00000\n",
              "std      2.54951\n",
              "min      1.00000\n",
              "25%      2.00000\n",
              "50%      4.00000\n",
              "75%      6.00000\n",
              "max      7.00000\n",
              "dtype: float64"
            ]
          },
          "metadata": {
            "tags": []
          },
          "execution_count": 63
        }
      ]
    },
    {
      "cell_type": "markdown",
      "metadata": {
        "id": "GyprINQzxw0D",
        "colab_type": "text"
      },
      "source": [
        "Write a Pandas program to calculate the frequency counts of each unique value of a given series."
      ]
    },
    {
      "cell_type": "code",
      "metadata": {
        "id": "fcBZ_Btfxq4i",
        "colab_type": "code",
        "colab": {
          "base_uri": "https://localhost:8080/",
          "height": 34
        },
        "outputId": "22d87be9-a4e3-4346-9d43-7fbf8b0d23eb"
      },
      "source": [
        "np.random.RandomState(100)\n",
        "num_series = pd.Series(np.random.randint(1, 5, [15]))\n",
        "\n",
        "num_series.value_counts().index[:1]"
      ],
      "execution_count": 88,
      "outputs": [
        {
          "output_type": "execute_result",
          "data": {
            "text/plain": [
              "Int64Index([3], dtype='int64')"
            ]
          },
          "metadata": {
            "tags": []
          },
          "execution_count": 88
        }
      ]
    },
    {
      "cell_type": "markdown",
      "metadata": {
        "id": "2D-NYdUxypOw",
        "colab_type": "text"
      },
      "source": [
        "Write a Pandas program to display most frequent value in a given series and replace everything else as 'Other' in the series. "
      ]
    },
    {
      "cell_type": "code",
      "metadata": {
        "id": "LNhCgEjSx3CA",
        "colab_type": "code",
        "colab": {
          "base_uri": "https://localhost:8080/",
          "height": 34
        },
        "outputId": "d3594a9d-3ea7-4174-82be-ee9de6b6b4af"
      },
      "source": [
        "result = num_series[~num_series.isin( num_series.value_counts().index[:1])  ] ='Others' \n",
        "result"
      ],
      "execution_count": 89,
      "outputs": [
        {
          "output_type": "execute_result",
          "data": {
            "text/plain": [
              "'Others'"
            ]
          },
          "metadata": {
            "tags": []
          },
          "execution_count": 89
        }
      ]
    },
    {
      "cell_type": "code",
      "metadata": {
        "id": "dKiUwoOzyn74",
        "colab_type": "code",
        "colab": {
          "base_uri": "https://localhost:8080/",
          "height": 294
        },
        "outputId": "5ba4b00e-966f-427b-f34e-d4dd4e9abb4c"
      },
      "source": [
        "num_series"
      ],
      "execution_count": 90,
      "outputs": [
        {
          "output_type": "execute_result",
          "data": {
            "text/plain": [
              "0          3\n",
              "1          3\n",
              "2     Others\n",
              "3          3\n",
              "4     Others\n",
              "5     Others\n",
              "6     Others\n",
              "7          3\n",
              "8          3\n",
              "9          3\n",
              "10         3\n",
              "11    Others\n",
              "12    Others\n",
              "13    Others\n",
              "14    Others\n",
              "dtype: object"
            ]
          },
          "metadata": {
            "tags": []
          },
          "execution_count": 90
        }
      ]
    },
    {
      "cell_type": "code",
      "metadata": {
        "id": "Qi45SgVf04ed",
        "colab_type": "code",
        "colab": {}
      },
      "source": [
        ""
      ],
      "execution_count": 0,
      "outputs": []
    }
  ]
}
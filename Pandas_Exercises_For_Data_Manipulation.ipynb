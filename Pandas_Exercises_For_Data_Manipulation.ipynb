{
  "nbformat": 4,
  "nbformat_minor": 0,
  "metadata": {
    "colab": {
      "name": "Pandas Exercises For Data Manipulation.ipynb",
      "provenance": [],
      "collapsed_sections": [],
      "authorship_tag": "ABX9TyOr+Sotn6EBX0+K5UCvVYbY",
      "include_colab_link": true
    },
    "kernelspec": {
      "name": "python3",
      "display_name": "Python 3"
    }
  },
  "cells": [
    {
      "cell_type": "markdown",
      "metadata": {
        "id": "view-in-github",
        "colab_type": "text"
      },
      "source": [
        "<a href=\"https://colab.research.google.com/github/shayekh00/Pandas-Exercises-For-Data-Manipulation./blob/master/Pandas_Exercises_For_Data_Manipulation.ipynb\" target=\"_parent\"><img src=\"https://colab.research.google.com/assets/colab-badge.svg\" alt=\"Open In Colab\"/></a>"
      ]
    },
    {
      "cell_type": "code",
      "metadata": {
        "id": "ea8PaNMfPWV5",
        "colab_type": "code",
        "colab": {
          "base_uri": "https://localhost:8080/",
          "height": 52
        },
        "outputId": "7397adba-0cee-493b-ec38-468fb7c81f0f"
      },
      "source": [
        "from google.colab import drive\n",
        "drive.mount(\"/content/drive\")\n",
        "%cd \"/content/drive/My Drive/Colab Notebooks/\""
      ],
      "execution_count": 122,
      "outputs": [
        {
          "output_type": "stream",
          "text": [
            "Drive already mounted at /content/drive; to attempt to forcibly remount, call drive.mount(\"/content/drive\", force_remount=True).\n",
            "/content/drive/My Drive/Colab Notebooks\n"
          ],
          "name": "stdout"
        }
      ]
    },
    {
      "cell_type": "code",
      "metadata": {
        "id": "GT54sbLIQqdb",
        "colab_type": "code",
        "colab": {}
      },
      "source": [
        "import pandas as pd\n",
        "import numpy as np"
      ],
      "execution_count": 0,
      "outputs": []
    },
    {
      "cell_type": "markdown",
      "metadata": {
        "id": "6ESxOpdzhWbD",
        "colab_type": "text"
      },
      "source": [
        "Write a Python program to create and display a one-dimensional array-like object containing an array of data using Pandas module"
      ]
    },
    {
      "cell_type": "code",
      "metadata": {
        "id": "6BBd5MOchhOZ",
        "colab_type": "code",
        "outputId": "51f10425-5dca-4695-9d7f-07c1eb7237f1",
        "colab": {
          "base_uri": "https://localhost:8080/",
          "height": 121
        }
      },
      "source": [
        "df = pd.DataFrame({'X':[78,85,96,80,86], 'Y':[84,94,89,83,86],'Z':[86,97,96,72,83]});\n",
        "print(df)"
      ],
      "execution_count": 124,
      "outputs": [
        {
          "output_type": "stream",
          "text": [
            "    X   Y   Z\n",
            "0  78  84  86\n",
            "1  85  94  97\n",
            "2  96  89  96\n",
            "3  80  83  72\n",
            "4  86  86  83\n"
          ],
          "name": "stdout"
        }
      ]
    },
    {
      "cell_type": "markdown",
      "metadata": {
        "id": "0fTgd8cOkR0J",
        "colab_type": "text"
      },
      "source": [
        "Write a Python program to convert a Panda module Series to Python list and it's type"
      ]
    },
    {
      "cell_type": "code",
      "metadata": {
        "id": "tYSMDHUJRLo0",
        "colab_type": "code",
        "outputId": "5fccf054-47dd-4809-8bcf-f68201b1872d",
        "colab": {
          "base_uri": "https://localhost:8080/",
          "height": 34
        }
      },
      "source": [
        "X= []\n",
        "col_names= df.columns.unique()\n",
        "\n",
        "\n",
        "for col in col_names:\n",
        "  for i in range(0,df['X'].shape[0]):\n",
        "    X.append(df[col][i])\n",
        "\n",
        "print(X)\n"
      ],
      "execution_count": 125,
      "outputs": [
        {
          "output_type": "stream",
          "text": [
            "[78, 85, 96, 80, 86, 84, 94, 89, 83, 86, 86, 97, 96, 72, 83]\n"
          ],
          "name": "stdout"
        }
      ]
    },
    {
      "cell_type": "markdown",
      "metadata": {
        "id": "ieE3kVZ0kP0V",
        "colab_type": "text"
      },
      "source": [
        "Write a Python program to add, subtract, multiple and divide two Pandas Series"
      ]
    },
    {
      "cell_type": "code",
      "metadata": {
        "id": "nRRrKbKqhmg3",
        "colab_type": "code",
        "outputId": "cdc11bf3-660d-4a90-eefa-1a5a840127ca",
        "colab": {
          "base_uri": "https://localhost:8080/",
          "height": 433
        }
      },
      "source": [
        "col1=df['X']\n",
        "col2=df['Y']\n",
        "\n",
        "print(col1/col2)\n",
        "print(col1 * col2)\n",
        "print(col1 + col2)\n",
        "print(col1 - col2)"
      ],
      "execution_count": 126,
      "outputs": [
        {
          "output_type": "stream",
          "text": [
            "0    0.928571\n",
            "1    0.904255\n",
            "2    1.078652\n",
            "3    0.963855\n",
            "4    1.000000\n",
            "dtype: float64\n",
            "0    6552\n",
            "1    7990\n",
            "2    8544\n",
            "3    6640\n",
            "4    7396\n",
            "dtype: int64\n",
            "0    162\n",
            "1    179\n",
            "2    185\n",
            "3    163\n",
            "4    172\n",
            "dtype: int64\n",
            "0   -6\n",
            "1   -9\n",
            "2    7\n",
            "3   -3\n",
            "4    0\n",
            "dtype: int64\n"
          ],
          "name": "stdout"
        }
      ]
    },
    {
      "cell_type": "markdown",
      "metadata": {
        "id": "iEArAxLvltDb",
        "colab_type": "text"
      },
      "source": [
        "Write a Python program to convert a dictionary to a Pandas series."
      ]
    },
    {
      "cell_type": "code",
      "metadata": {
        "id": "N9NgQHBGjGjl",
        "colab_type": "code",
        "outputId": "2d9f00af-3a3d-4188-d8c7-7c1a883090e0",
        "colab": {
          "base_uri": "https://localhost:8080/",
          "height": 121
        }
      },
      "source": [
        "sample_dict= {'a': 100, 'b': 200, 'c': 300, 'd': 400, 'e': 800}\n",
        "new_series=pd.Series(sample_dict)\n",
        "print(new_series)"
      ],
      "execution_count": 127,
      "outputs": [
        {
          "output_type": "stream",
          "text": [
            "a    100\n",
            "b    200\n",
            "c    300\n",
            "d    400\n",
            "e    800\n",
            "dtype: int64\n"
          ],
          "name": "stdout"
        }
      ]
    },
    {
      "cell_type": "markdown",
      "metadata": {
        "id": "P98D8ZaJpq9U",
        "colab_type": "text"
      },
      "source": [
        "Write a Python program to convert a NumPy array to a Pandas series. Go to the editor."
      ]
    },
    {
      "cell_type": "code",
      "metadata": {
        "id": "whzu-WsrjwRT",
        "colab_type": "code",
        "outputId": "28a9de4a-4a5c-43ee-c54f-656356d99958",
        "colab": {
          "base_uri": "https://localhost:8080/",
          "height": 121
        }
      },
      "source": [
        "np_array=[10,20,30,40,50]\n",
        "new_series=pd.Series(np_array)\n",
        "print(new_series)"
      ],
      "execution_count": 128,
      "outputs": [
        {
          "output_type": "stream",
          "text": [
            "0    10\n",
            "1    20\n",
            "2    30\n",
            "3    40\n",
            "4    50\n",
            "dtype: int64\n"
          ],
          "name": "stdout"
        }
      ]
    },
    {
      "cell_type": "markdown",
      "metadata": {
        "id": "3v0U6l02p4yM",
        "colab_type": "text"
      },
      "source": [
        "Write a Python program to change the data type of given a column or a Series."
      ]
    },
    {
      "cell_type": "code",
      "metadata": {
        "id": "cs_dkUXTo31c",
        "colab_type": "code",
        "outputId": "725af7a0-6594-4ba7-81d5-7188bdeb249b",
        "colab": {
          "base_uri": "https://localhost:8080/",
          "height": 121
        }
      },
      "source": [
        "sample_dict= {'a': 100, 'b': 200, 'c': 'Pythuuunn', 'd': 400, 'e': 800}\n",
        "new_series=pd.Series(sample_dict)\n",
        "\n",
        "new_series= pd.to_numeric(new_series,errors='coerce')\n",
        "new_series"
      ],
      "execution_count": 129,
      "outputs": [
        {
          "output_type": "execute_result",
          "data": {
            "text/plain": [
              "a    100.0\n",
              "b    200.0\n",
              "c      NaN\n",
              "d    400.0\n",
              "e    800.0\n",
              "dtype: float64"
            ]
          },
          "metadata": {
            "tags": []
          },
          "execution_count": 129
        }
      ]
    },
    {
      "cell_type": "markdown",
      "metadata": {
        "id": "3eily1stsRa1",
        "colab_type": "text"
      },
      "source": [
        "Write a Python Pandas program to convert the first column of a DataFrame as a Series"
      ]
    },
    {
      "cell_type": "code",
      "metadata": {
        "id": "H93aeoKcqsWh",
        "colab_type": "code",
        "outputId": "b4800333-ed32-421a-a8ff-f6a1a2c9e4ec",
        "colab": {
          "base_uri": "https://localhost:8080/",
          "height": 34
        }
      },
      "source": [
        "new_df= pd.DataFrame(np.random.rand(20,5))\n",
        "new_series=pd.Series(new_df[0])\n",
        "type(new_series)"
      ],
      "execution_count": 130,
      "outputs": [
        {
          "output_type": "execute_result",
          "data": {
            "text/plain": [
              "pandas.core.series.Series"
            ]
          },
          "metadata": {
            "tags": []
          },
          "execution_count": 130
        }
      ]
    },
    {
      "cell_type": "markdown",
      "metadata": {
        "id": "weXylGh9uTAX",
        "colab_type": "text"
      },
      "source": [
        "Write a Pandas program to convert a given Series to an array."
      ]
    },
    {
      "cell_type": "code",
      "metadata": {
        "id": "mt8GbKTOt2af",
        "colab_type": "code",
        "outputId": "fc608209-8dc2-4219-8f6d-c5d1840b0e66",
        "colab": {
          "base_uri": "https://localhost:8080/",
          "height": 34
        }
      },
      "source": [
        "del X\n",
        "\n",
        "X=[]\n",
        "sample_dict2= {'a': 100, 'b': 200, 'c': 'Pythuuunn', 'd': 400, 'e': 800}\n",
        "new_series2=pd.Series(sample_dict2)\n",
        "for i in new_series2:\n",
        "  X.append(i)\n",
        "\n",
        "X"
      ],
      "execution_count": 131,
      "outputs": [
        {
          "output_type": "execute_result",
          "data": {
            "text/plain": [
              "[100, 200, 'Pythuuunn', 400, 800]"
            ]
          },
          "metadata": {
            "tags": []
          },
          "execution_count": 131
        }
      ]
    },
    {
      "cell_type": "markdown",
      "metadata": {
        "id": "6Zyk3vOfvfPN",
        "colab_type": "text"
      },
      "source": [
        "Write a Pandas program to convert Series of lists to one Series.\n",
        "\n"
      ]
    },
    {
      "cell_type": "code",
      "metadata": {
        "id": "k9QE6HSBuv_N",
        "colab_type": "code",
        "outputId": "2881e391-d707-4b11-ec4e-a975e55f9782",
        "colab": {
          "base_uri": "https://localhost:8080/",
          "height": 138
        }
      },
      "source": [
        "list1=['Red', 'Green', 'White']\n",
        "list2=['Red', 'Black', ]\n",
        "list3=['Yellow']\n",
        "new_series2=pd.Series([list1,list2,list3])\n",
        "new_series2.apply(pd.Series).stack().reset_index(drop=True)"
      ],
      "execution_count": 132,
      "outputs": [
        {
          "output_type": "execute_result",
          "data": {
            "text/plain": [
              "0       Red\n",
              "1     Green\n",
              "2     White\n",
              "3       Red\n",
              "4     Black\n",
              "5    Yellow\n",
              "dtype: object"
            ]
          },
          "metadata": {
            "tags": []
          },
          "execution_count": 132
        }
      ]
    },
    {
      "cell_type": "markdown",
      "metadata": {
        "id": "vr70ro6gp4zJ",
        "colab_type": "text"
      },
      "source": [
        "Write a Pandas program to sort a given Series"
      ]
    },
    {
      "cell_type": "code",
      "metadata": {
        "id": "KgP3I_uiwCGq",
        "colab_type": "code",
        "colab": {}
      },
      "source": [
        "new_series2= pd.Series([3,4,5,6,7,1,2])"
      ],
      "execution_count": 0,
      "outputs": []
    },
    {
      "cell_type": "code",
      "metadata": {
        "id": "mlLKnK38ouql",
        "colab_type": "code",
        "colab": {}
      },
      "source": [
        "new_series2=new_series2.sort_values()"
      ],
      "execution_count": 0,
      "outputs": []
    },
    {
      "cell_type": "markdown",
      "metadata": {
        "id": "T6cFTQpxp_hB",
        "colab_type": "text"
      },
      "source": [
        "Write a Pandas program to add some data to an existing Series."
      ]
    },
    {
      "cell_type": "code",
      "metadata": {
        "id": "wrZFZf_Xovi9",
        "colab_type": "code",
        "outputId": "3d77328c-5903-4e97-a5ea-77c23469ab9d",
        "colab": {
          "base_uri": "https://localhost:8080/",
          "height": 69
        }
      },
      "source": [
        "s2=pd.Series(['php',500])\n",
        "s2"
      ],
      "execution_count": 135,
      "outputs": [
        {
          "output_type": "execute_result",
          "data": {
            "text/plain": [
              "0    php\n",
              "1    500\n",
              "dtype: object"
            ]
          },
          "metadata": {
            "tags": []
          },
          "execution_count": 135
        }
      ]
    },
    {
      "cell_type": "code",
      "metadata": {
        "id": "bbm6NzGmrRxq",
        "colab_type": "code",
        "outputId": "6ac99bc5-d9a3-47c8-dc8d-a43133e2ee09",
        "colab": {
          "base_uri": "https://localhost:8080/",
          "height": 190
        }
      },
      "source": [
        "new_series2=s2.append(new_series2)\t\n",
        "new_series2\n"
      ],
      "execution_count": 136,
      "outputs": [
        {
          "output_type": "execute_result",
          "data": {
            "text/plain": [
              "0    php\n",
              "1    500\n",
              "5      1\n",
              "6      2\n",
              "0      3\n",
              "1      4\n",
              "2      5\n",
              "3      6\n",
              "4      7\n",
              "dtype: object"
            ]
          },
          "metadata": {
            "tags": []
          },
          "execution_count": 136
        }
      ]
    },
    {
      "cell_type": "markdown",
      "metadata": {
        "id": "zUTvNiCVtnS8",
        "colab_type": "text"
      },
      "source": [
        "Write a Pandas program to create a subset of a given series based on value and condition."
      ]
    },
    {
      "cell_type": "code",
      "metadata": {
        "id": "_jlQnH_prsPN",
        "colab_type": "code",
        "outputId": "604864ed-c75c-4e8f-96ad-293a3926a851",
        "colab": {
          "base_uri": "https://localhost:8080/",
          "height": 104
        }
      },
      "source": [
        "new_series2= pd.Series([3,4,5,6,7,1,2]).sort_values()\n",
        "new_series2=new_series2[new_series2.values < 5]\n",
        "new_series2"
      ],
      "execution_count": 137,
      "outputs": [
        {
          "output_type": "execute_result",
          "data": {
            "text/plain": [
              "5    1\n",
              "6    2\n",
              "0    3\n",
              "1    4\n",
              "dtype: int64"
            ]
          },
          "metadata": {
            "tags": []
          },
          "execution_count": 137
        }
      ]
    },
    {
      "cell_type": "markdown",
      "metadata": {
        "id": "naJ-aoLVuaOz",
        "colab_type": "text"
      },
      "source": [
        "Write a Pandas program to create the mean and standard deviation of the data of a given Series"
      ]
    },
    {
      "cell_type": "code",
      "metadata": {
        "id": "GS9xaK2rrvf2",
        "colab_type": "code",
        "outputId": "45280fed-3a65-40ba-8b91-d90160d1392d",
        "colab": {
          "base_uri": "https://localhost:8080/",
          "height": 52
        }
      },
      "source": [
        "print(new_series2.mean())\n",
        "print(new_series2.std())"
      ],
      "execution_count": 138,
      "outputs": [
        {
          "output_type": "stream",
          "text": [
            "2.5\n",
            "1.2909944487358056\n"
          ],
          "name": "stdout"
        }
      ]
    },
    {
      "cell_type": "markdown",
      "metadata": {
        "id": "QB527Bwiu-uV",
        "colab_type": "text"
      },
      "source": [
        "Write a Pandas program to get the items of a given series not present in another given series."
      ]
    },
    {
      "cell_type": "code",
      "metadata": {
        "id": "06v-tmBdunb9",
        "colab_type": "code",
        "outputId": "9e8b957e-2bc8-4caa-f26c-f16aac339a3b",
        "colab": {
          "base_uri": "https://localhost:8080/",
          "height": 86
        }
      },
      "source": [
        "new_series2= pd.Series([3,4,5,6,7,1,2])\n",
        "new_series3= pd.Series([10,11,4,145,6,7,1,2])\n",
        "\n",
        "new_idx= new_series3[~new_series3.isin(new_series2)]\n",
        "new_idx"
      ],
      "execution_count": 139,
      "outputs": [
        {
          "output_type": "execute_result",
          "data": {
            "text/plain": [
              "0     10\n",
              "1     11\n",
              "3    145\n",
              "dtype: int64"
            ]
          },
          "metadata": {
            "tags": []
          },
          "execution_count": 139
        }
      ]
    },
    {
      "cell_type": "markdown",
      "metadata": {
        "id": "PZ6wrsMdw4b3",
        "colab_type": "text"
      },
      "source": [
        "Write a Pandas program to get the items which are not common of two given series"
      ]
    },
    {
      "cell_type": "code",
      "metadata": {
        "id": "RqCq13uBwbPv",
        "colab_type": "code",
        "outputId": "7ff67563-da94-4096-a7b8-283e4be9e124",
        "colab": {
          "base_uri": "https://localhost:8080/",
          "height": 260
        }
      },
      "source": [
        "s3= new_series3[~new_series3.isin(new_idx)]\n",
        "s2= new_series2[~new_series2.isin(new_idx)]\n",
        "print(s2)\n",
        "print(s3)"
      ],
      "execution_count": 140,
      "outputs": [
        {
          "output_type": "stream",
          "text": [
            "0    3\n",
            "1    4\n",
            "2    5\n",
            "3    6\n",
            "4    7\n",
            "5    1\n",
            "6    2\n",
            "dtype: int64\n",
            "2    4\n",
            "4    6\n",
            "5    7\n",
            "6    1\n",
            "7    2\n",
            "dtype: int64\n"
          ],
          "name": "stdout"
        }
      ]
    },
    {
      "cell_type": "markdown",
      "metadata": {
        "id": "iLretdHTxWt6",
        "colab_type": "text"
      },
      "source": [
        "Write a Pandas program to compute the minimum, 25th percentile, median, 75th, and maximum of a given series."
      ]
    },
    {
      "cell_type": "code",
      "metadata": {
        "id": "a9uKYkf5w-wG",
        "colab_type": "code",
        "outputId": "5435fd26-e4e0-47bd-e8ff-b9f3d989b7db",
        "colab": {
          "base_uri": "https://localhost:8080/",
          "height": 173
        }
      },
      "source": [
        "s3.describe()"
      ],
      "execution_count": 141,
      "outputs": [
        {
          "output_type": "execute_result",
          "data": {
            "text/plain": [
              "count    5.00000\n",
              "mean     4.00000\n",
              "std      2.54951\n",
              "min      1.00000\n",
              "25%      2.00000\n",
              "50%      4.00000\n",
              "75%      6.00000\n",
              "max      7.00000\n",
              "dtype: float64"
            ]
          },
          "metadata": {
            "tags": []
          },
          "execution_count": 141
        }
      ]
    },
    {
      "cell_type": "markdown",
      "metadata": {
        "id": "GyprINQzxw0D",
        "colab_type": "text"
      },
      "source": [
        "Write a Pandas program to calculate the frequency counts of each unique value of a given series."
      ]
    },
    {
      "cell_type": "code",
      "metadata": {
        "id": "fcBZ_Btfxq4i",
        "colab_type": "code",
        "outputId": "334691e7-0827-41bd-c582-f5cb5ec838b3",
        "colab": {
          "base_uri": "https://localhost:8080/",
          "height": 34
        }
      },
      "source": [
        "np.random.RandomState(100)\n",
        "num_series = pd.Series(np.random.randint(1, 5, [15]))\n",
        "\n",
        "num_series.value_counts().index[:1]"
      ],
      "execution_count": 142,
      "outputs": [
        {
          "output_type": "execute_result",
          "data": {
            "text/plain": [
              "Int64Index([3], dtype='int64')"
            ]
          },
          "metadata": {
            "tags": []
          },
          "execution_count": 142
        }
      ]
    },
    {
      "cell_type": "markdown",
      "metadata": {
        "id": "2D-NYdUxypOw",
        "colab_type": "text"
      },
      "source": [
        "Write a Pandas program to display most frequent value in a given series and replace everything else as 'Other' in the series. "
      ]
    },
    {
      "cell_type": "code",
      "metadata": {
        "id": "LNhCgEjSx3CA",
        "colab_type": "code",
        "outputId": "95646120-4bd2-4814-dbe3-638a2ba3f476",
        "colab": {
          "base_uri": "https://localhost:8080/",
          "height": 34
        }
      },
      "source": [
        "result = num_series[~num_series.isin( num_series.value_counts().index[:1])  ] ='Others' \n",
        "result"
      ],
      "execution_count": 143,
      "outputs": [
        {
          "output_type": "execute_result",
          "data": {
            "text/plain": [
              "'Others'"
            ]
          },
          "metadata": {
            "tags": []
          },
          "execution_count": 143
        }
      ]
    },
    {
      "cell_type": "code",
      "metadata": {
        "id": "dKiUwoOzyn74",
        "colab_type": "code",
        "outputId": "7b7b89d9-49f6-4c35-f7d4-89c3a456208c",
        "colab": {
          "base_uri": "https://localhost:8080/",
          "height": 294
        }
      },
      "source": [
        "num_series"
      ],
      "execution_count": 144,
      "outputs": [
        {
          "output_type": "execute_result",
          "data": {
            "text/plain": [
              "0     Others\n",
              "1     Others\n",
              "2     Others\n",
              "3          3\n",
              "4          3\n",
              "5     Others\n",
              "6          3\n",
              "7     Others\n",
              "8          3\n",
              "9     Others\n",
              "10    Others\n",
              "11    Others\n",
              "12         3\n",
              "13    Others\n",
              "14         3\n",
              "dtype: object"
            ]
          },
          "metadata": {
            "tags": []
          },
          "execution_count": 144
        }
      ]
    },
    {
      "cell_type": "markdown",
      "metadata": {
        "id": "GJ58iDvgzC2z",
        "colab_type": "text"
      },
      "source": [
        "Write a Pandas program to extract items at given positions of a given series."
      ]
    },
    {
      "cell_type": "code",
      "metadata": {
        "id": "Qi45SgVf04ed",
        "colab_type": "code",
        "colab": {
          "base_uri": "https://localhost:8080/",
          "height": 208
        },
        "outputId": "f9e2dc38-8815-4f76-e82d-0ce4c577c2ea"
      },
      "source": [
        "num_series.iloc[5:]"
      ],
      "execution_count": 145,
      "outputs": [
        {
          "output_type": "execute_result",
          "data": {
            "text/plain": [
              "5     Others\n",
              "6          3\n",
              "7     Others\n",
              "8          3\n",
              "9     Others\n",
              "10    Others\n",
              "11    Others\n",
              "12         3\n",
              "13    Others\n",
              "14         3\n",
              "dtype: object"
            ]
          },
          "metadata": {
            "tags": []
          },
          "execution_count": 145
        }
      ]
    },
    {
      "cell_type": "markdown",
      "metadata": {
        "id": "ZHWoT3T10c0X",
        "colab_type": "text"
      },
      "source": [
        "Write a Pandas program to get the positions of items of a given series in another given series."
      ]
    },
    {
      "cell_type": "code",
      "metadata": {
        "id": "JQsO1bMZzG-N",
        "colab_type": "code",
        "colab": {
          "base_uri": "https://localhost:8080/",
          "height": 364
        },
        "outputId": "d0376dcf-9a7c-4e1c-8507-54ae7f28afc0"
      },
      "source": [
        "series1 = pd.Series([1, 2, 3, 4, 5, 6, 7, 8, 9, 10])\n",
        "series2 = pd.Series([1, 3, 5, 7, 10])\n",
        "print(\"Original Series:\")\n",
        "print(series1)\n",
        "print(series2)\n",
        "result = [pd.Index(series1).get_loc(i) for i in series2]\n",
        "print(\"Positions of items of series2 in series1:\")\n",
        "print(result)"
      ],
      "execution_count": 146,
      "outputs": [
        {
          "output_type": "stream",
          "text": [
            "Original Series:\n",
            "0     1\n",
            "1     2\n",
            "2     3\n",
            "3     4\n",
            "4     5\n",
            "5     6\n",
            "6     7\n",
            "7     8\n",
            "8     9\n",
            "9    10\n",
            "dtype: int64\n",
            "0     1\n",
            "1     3\n",
            "2     5\n",
            "3     7\n",
            "4    10\n",
            "dtype: int64\n",
            "Positions of items of series2 in series1:\n",
            "[0, 2, 4, 6, 9]\n"
          ],
          "name": "stdout"
        }
      ]
    },
    {
      "cell_type": "markdown",
      "metadata": {
        "id": "XHQQEqVodnJR",
        "colab_type": "text"
      },
      "source": [
        "Capitalizing Every letter in a series"
      ]
    },
    {
      "cell_type": "code",
      "metadata": {
        "id": "RRmav1rX5l2j",
        "colab_type": "code",
        "colab": {
          "base_uri": "https://localhost:8080/",
          "height": 294
        },
        "outputId": "c9a4cb08-fda3-4165-d75a-5f824bb85485"
      },
      "source": [
        "num_series= num_series.str.capitalize()\n",
        "num_series"
      ],
      "execution_count": 150,
      "outputs": [
        {
          "output_type": "execute_result",
          "data": {
            "text/plain": [
              "0     Others\n",
              "1     Others\n",
              "2     Others\n",
              "3        NaN\n",
              "4        NaN\n",
              "5     Others\n",
              "6        NaN\n",
              "7     Others\n",
              "8        NaN\n",
              "9     Others\n",
              "10    Others\n",
              "11    Others\n",
              "12       NaN\n",
              "13    Others\n",
              "14       NaN\n",
              "dtype: object"
            ]
          },
          "metadata": {
            "tags": []
          },
          "execution_count": 150
        }
      ]
    },
    {
      "cell_type": "markdown",
      "metadata": {
        "id": "-zwFiH8XmX8-",
        "colab_type": "text"
      },
      "source": [
        "Write a Pandas program to compute difference of differences between consecutive numbers of a given series."
      ]
    },
    {
      "cell_type": "code",
      "metadata": {
        "id": "29-Z1-Mohgsr",
        "colab_type": "code",
        "colab": {
          "base_uri": "https://localhost:8080/",
          "height": 208
        },
        "outputId": "20c0a91d-dd93-4fc6-a02c-11ecddf45012"
      },
      "source": [
        "print(series1.diff().tolist)"
      ],
      "execution_count": 151,
      "outputs": [
        {
          "output_type": "stream",
          "text": [
            "<bound method IndexOpsMixin.tolist of 0    NaN\n",
            "1    1.0\n",
            "2    1.0\n",
            "3    1.0\n",
            "4    1.0\n",
            "5    1.0\n",
            "6    1.0\n",
            "7    1.0\n",
            "8    1.0\n",
            "9    1.0\n",
            "dtype: float64>\n"
          ],
          "name": "stdout"
        }
      ]
    },
    {
      "cell_type": "markdown",
      "metadata": {
        "id": "anym6JtDm7Z2",
        "colab_type": "text"
      },
      "source": [
        "Write a Pandas program to get the day of month, **day of year**, week number and day of week from a given series of date strings."
      ]
    },
    {
      "cell_type": "code",
      "metadata": {
        "id": "rH0DiUQEm6rL",
        "colab_type": "code",
        "colab": {
          "base_uri": "https://localhost:8080/",
          "height": 242
        },
        "outputId": "92b3768b-de6b-4ed0-e088-8f3c2fb371e7"
      },
      "source": [
        "from dateutil.parser import parse\n",
        "date_series = pd.Series(['01 Jan 2015', '10-02-2016', '20180307', '2014/05/06', '2016-04-12', '2019-04-06T11:20'])\n",
        "print(date_series)\n",
        "date_series= date_series.map(lambda x: parse(x))\n",
        "print(\"Day of month:\")\n",
        "print(date_series.dt.day.tolist())\n",
        "print(\"Day of year:\")\n",
        "print(date_series.dt.dayofyear.tolist())\n",
        "print(\"Week number:\")\n",
        "print(date_series.dt.weekofyear.tolist())"
      ],
      "execution_count": 161,
      "outputs": [
        {
          "output_type": "stream",
          "text": [
            "0         01 Jan 2015\n",
            "1          10-02-2016\n",
            "2            20180307\n",
            "3          2014/05/06\n",
            "4          2016-04-12\n",
            "5    2019-04-06T11:20\n",
            "dtype: object\n",
            "Day of month:\n",
            "[1, 2, 7, 6, 12, 6]\n",
            "Day of year:\n",
            "[1, 276, 66, 126, 103, 96]\n",
            "Week number:\n",
            "[1, 39, 10, 19, 15, 14]\n"
          ],
          "name": "stdout"
        }
      ]
    },
    {
      "cell_type": "markdown",
      "metadata": {
        "id": "-aElExbmva6X",
        "colab_type": "text"
      },
      "source": [
        "Write a Pandas program to convert year-month string to dates adding a specified day of the month."
      ]
    },
    {
      "cell_type": "code",
      "metadata": {
        "id": "tSjTW2se-bWM",
        "colab_type": "code",
        "colab": {
          "base_uri": "https://localhost:8080/",
          "height": 121
        },
        "outputId": "b8a3614b-d33a-4d67-83b6-e7e58aba4ae6"
      },
      "source": [
        "date_series = pd.Series(['Jan 2015', 'Feb 2016', 'Mar 2017', 'Apr 2018', 'May 2019'])\n",
        "result = date_series.map(lambda d: parse('11 ' + d))\n",
        "print(result)"
      ],
      "execution_count": 163,
      "outputs": [
        {
          "output_type": "stream",
          "text": [
            "0   2015-01-11\n",
            "1   2016-02-11\n",
            "2   2017-03-11\n",
            "3   2018-04-11\n",
            "4   2019-05-11\n",
            "dtype: datetime64[ns]\n"
          ],
          "name": "stdout"
        }
      ]
    },
    {
      "cell_type": "code",
      "metadata": {
        "id": "6obbdUmzuQR7",
        "colab_type": "code",
        "colab": {}
      },
      "source": [
        ""
      ],
      "execution_count": 0,
      "outputs": []
    }
  ]
}